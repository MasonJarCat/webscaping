{
 "cells": [
  {
   "cell_type": "code",
   "execution_count": 2,
   "metadata": {},
   "outputs": [],
   "source": [
    "import pandas as pd\n",
    "\n",
    "pd = pd.read_csv(\"test2.csv\")"
   ]
  },
  {
   "cell_type": "code",
   "execution_count": 3,
   "metadata": {},
   "outputs": [],
   "source": [
    "aggregation = (\n",
    "    pd.groupby(\"Make\")\n",
    "    .agg({\"Make\": \"count\", \"Price\": \"sum\"})\n",
    "    .rename(columns={\"Make\": \"Units\"})\n",
    "    .sort_values(by=[\"Units\", \"Price\"], ascending=False)\n",
    ")\n",
    "aggregation.to_csv(\"output.csv\")"
   ]
  },
  {
   "cell_type": "markdown",
   "metadata": {},
   "source": [
    "this is without Make column parsing"
   ]
  },
  {
   "cell_type": "code",
   "execution_count": 8,
   "metadata": {},
   "outputs": [
    {
     "data": {
      "text/html": [
       "<div>\n",
       "<style scoped>\n",
       "    .dataframe tbody tr th:only-of-type {\n",
       "        vertical-align: middle;\n",
       "    }\n",
       "\n",
       "    .dataframe tbody tr th {\n",
       "        vertical-align: top;\n",
       "    }\n",
       "\n",
       "    .dataframe thead th {\n",
       "        text-align: right;\n",
       "    }\n",
       "</style>\n",
       "<table border=\"1\" class=\"dataframe\">\n",
       "  <thead>\n",
       "    <tr style=\"text-align: right;\">\n",
       "      <th></th>\n",
       "      <th>Units</th>\n",
       "      <th>Price</th>\n",
       "    </tr>\n",
       "    <tr>\n",
       "      <th>Make</th>\n",
       "      <th></th>\n",
       "      <th></th>\n",
       "    </tr>\n",
       "  </thead>\n",
       "  <tbody>\n",
       "    <tr>\n",
       "      <th>East Texas Trailers</th>\n",
       "      <td>505</td>\n",
       "      <td>5579392.30</td>\n",
       "    </tr>\n",
       "    <tr>\n",
       "      <th>Big Tex</th>\n",
       "      <td>344</td>\n",
       "      <td>3248569.16</td>\n",
       "    </tr>\n",
       "    <tr>\n",
       "      <th>Liberty Industries Inc.</th>\n",
       "      <td>138</td>\n",
       "      <td>706385.55</td>\n",
       "    </tr>\n",
       "    <tr>\n",
       "      <th>Quality Cargo Trailers</th>\n",
       "      <td>127</td>\n",
       "      <td>1132383.10</td>\n",
       "    </tr>\n",
       "    <tr>\n",
       "      <th>TrailMax</th>\n",
       "      <td>123</td>\n",
       "      <td>2111701.28</td>\n",
       "    </tr>\n",
       "    <tr>\n",
       "      <th>...</th>\n",
       "      <td>...</td>\n",
       "      <td>...</td>\n",
       "    </tr>\n",
       "    <tr>\n",
       "      <th>REPO East Texas</th>\n",
       "      <td>1</td>\n",
       "      <td>2995.00</td>\n",
       "    </tr>\n",
       "    <tr>\n",
       "      <th>DIAMOND CARGO</th>\n",
       "      <td>1</td>\n",
       "      <td>0.00</td>\n",
       "    </tr>\n",
       "    <tr>\n",
       "      <th>STEALTH TITAN</th>\n",
       "      <td>1</td>\n",
       "      <td>0.00</td>\n",
       "    </tr>\n",
       "    <tr>\n",
       "      <th>Stealth Titan</th>\n",
       "      <td>1</td>\n",
       "      <td>0.00</td>\n",
       "    </tr>\n",
       "    <tr>\n",
       "      <th>Steel Pines x</th>\n",
       "      <td>1</td>\n",
       "      <td>0.00</td>\n",
       "    </tr>\n",
       "  </tbody>\n",
       "</table>\n",
       "<p>90 rows × 2 columns</p>\n",
       "</div>"
      ],
      "text/plain": [
       "                         Units       Price\n",
       "Make                                      \n",
       "East Texas Trailers        505  5579392.30\n",
       "Big Tex                    344  3248569.16\n",
       "Liberty Industries Inc.    138   706385.55\n",
       "Quality Cargo Trailers     127  1132383.10\n",
       "TrailMax                   123  2111701.28\n",
       "...                        ...         ...\n",
       "REPO East Texas              1     2995.00\n",
       "DIAMOND CARGO                1        0.00\n",
       "STEALTH TITAN                1        0.00\n",
       "Stealth Titan                1        0.00\n",
       "Steel Pines x                1        0.00\n",
       "\n",
       "[90 rows x 2 columns]"
      ]
     },
     "execution_count": 8,
     "metadata": {},
     "output_type": "execute_result"
    }
   ],
   "source": [
    "import re\n",
    "\n",
    "pd[\"Make\"] = pd[\"Make\"].str.replace(r\"\\d+\", \"\", regex=True)\n",
    "\n",
    "# Recalculate the aggregation\n",
    "aggregation = (\n",
    "    pd.groupby(\"Make\")\n",
    "    .agg({\"Make\": \"count\", \"Price\": \"sum\"})\n",
    "    .rename(columns={\"Make\": \"Units\"})\n",
    "    .sort_values(by=[\"Units\", \"Price\"], ascending=False)\n",
    ")\n",
    "\n",
    "aggregation\n",
    "\n",
    "# Save the new aggregation to a CSV file\n",
    "# aggregation.to_csv(\"output_without_numbers.csv\")"
   ]
  }
 ],
 "metadata": {
  "kernelspec": {
   "display_name": ".venv",
   "language": "python",
   "name": "python3"
  },
  "language_info": {
   "codemirror_mode": {
    "name": "ipython",
    "version": 3
   },
   "file_extension": ".py",
   "mimetype": "text/x-python",
   "name": "python",
   "nbconvert_exporter": "python",
   "pygments_lexer": "ipython3",
   "version": "3.12.7"
  }
 },
 "nbformat": 4,
 "nbformat_minor": 2
}
