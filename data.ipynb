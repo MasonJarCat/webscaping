{
 "cells": [
  {
   "cell_type": "code",
   "execution_count": 3,
   "metadata": {},
   "outputs": [],
   "source": [
    "import pandas as pd\n",
    "\n",
    "pd = pd.read_csv(\"test2.csv\")"
   ]
  },
  {
   "cell_type": "code",
   "execution_count": 9,
   "metadata": {},
   "outputs": [],
   "source": [
    "aggregation = (\n",
    "    pd.groupby(\"Make\")\n",
    "    .agg({\"Make\": \"count\", \"Price\": \"sum\"})\n",
    "    .rename(columns={\"Make\": \"Units\"})\n",
    "    .sort_values(by=[\"Units\", \"Price\"], ascending=False)\n",
    ")\n",
    "aggregation.to_csv(\"output.csv\")"
   ]
  },
  {
   "cell_type": "markdown",
   "metadata": {},
   "source": [
    "this is without Make column parsing"
   ]
  },
  {
   "cell_type": "code",
   "execution_count": 18,
   "metadata": {},
   "outputs": [],
   "source": [
    "import re\n",
    "\n",
    "pd[\"Make\"] = pd[\"Make\"].str.replace(r\"\\d+\", \"\", regex=True)\n",
    "\n",
    "# Recalculate the aggregation\n",
    "aggregation = (\n",
    "    pd.groupby(\"Make\")\n",
    "    .agg({\"Make\": \"count\", \"Price\": \"sum\"})\n",
    "    .rename(columns={\"Make\": \"Units\"})\n",
    "    .sort_values(by=[\"Units\", \"Price\"], ascending=False)\n",
    ")\n",
    "\n",
    "# Save the new aggregation to a CSV file\n",
    "aggregation.to_csv(\"output_without_numbers.csv\")"
   ]
  },
  {
   "cell_type": "markdown",
   "metadata": {},
   "source": []
  },
  {
   "cell_type": "markdown",
   "metadata": {},
   "source": []
  }
 ],
 "metadata": {
  "kernelspec": {
   "display_name": ".venv",
   "language": "python",
   "name": "python3"
  },
  "language_info": {
   "codemirror_mode": {
    "name": "ipython",
    "version": 3
   },
   "file_extension": ".py",
   "mimetype": "text/x-python",
   "name": "python",
   "nbconvert_exporter": "python",
   "pygments_lexer": "ipython3",
   "version": "3.12.6"
  }
 },
 "nbformat": 4,
 "nbformat_minor": 2
}
